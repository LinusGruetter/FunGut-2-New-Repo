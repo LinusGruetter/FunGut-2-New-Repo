{
 "cells": [
  {
   "cell_type": "code",
   "execution_count": null,
   "id": "98207284-6f76-43a1-a9c2-91a409db5961",
   "metadata": {},
   "outputs": [],
   "source": [
    "Hoi Sascha\n",
    "\n",
    "Das notebook hie isch nur damits de Ordner erstellt. Fausde frage hesch chaschmer jederzit schribe mir chöis de nächscht wuche oder früecher mau ire pouse no churz aluege."
   ]
  }
 ],
 "metadata": {
  "kernelspec": {
   "display_name": "QIIME 2",
   "language": "python",
   "name": "python3"
  },
  "language_info": {
   "codemirror_mode": {
    "name": "ipython",
    "version": 3
   },
   "file_extension": ".py",
   "mimetype": "text/x-python",
   "name": "python",
   "nbconvert_exporter": "python",
   "pygments_lexer": "ipython3",
   "version": "3.10.14"
  }
 },
 "nbformat": 4,
 "nbformat_minor": 5
}
