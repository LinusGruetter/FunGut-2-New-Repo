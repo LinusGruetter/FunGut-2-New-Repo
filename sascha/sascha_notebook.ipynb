{
 "cells": [
  {
   "cell_type": "code",
   "execution_count": null,
   "id": "3bf2aedc-2d3b-4247-b37a-a8f636a9954a",
   "metadata": {},
   "outputs": [],
   "source": [
    "Hoi Sascha :)\n",
    "\n",
    "Hie drinne chasch du dis programm schribe\n",
    "Bitte mach e neue Ordner i dim Ornder \"sascha\" drin mit \"data_sa\" (oder so) damit de ab jetze dini dateie dört chasch spichere (i chas äbä nid vo mir us mache)"
   ]
  }
 ],
 "metadata": {
  "kernelspec": {
   "display_name": "QIIME 2",
   "language": "python",
   "name": "python3"
  },
  "language_info": {
   "codemirror_mode": {
    "name": "ipython",
    "version": 3
   },
   "file_extension": ".py",
   "mimetype": "text/x-python",
   "name": "python",
   "nbconvert_exporter": "python",
   "pygments_lexer": "ipython3",
   "version": "3.10.14"
  }
 },
 "nbformat": 4,
 "nbformat_minor": 5
}
