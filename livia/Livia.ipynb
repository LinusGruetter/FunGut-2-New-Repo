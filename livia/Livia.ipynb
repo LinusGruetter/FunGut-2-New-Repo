{
 "cells": [
  {
   "cell_type": "code",
   "execution_count": null,
   "id": "77abe9f2-c9a8-46f3-b433-67564d4d6761",
   "metadata": {},
   "outputs": [],
   "source": [
    "test livia"
   ]
  }
 ],
 "metadata": {
  "kernelspec": {
   "display_name": "QIIME 2",
   "language": "python",
   "name": "python3"
  },
  "language_info": {
   "codemirror_mode": {
    "name": "ipython",
    "version": 3
   },
   "file_extension": ".py",
   "mimetype": "text/x-python",
   "name": "python",
   "nbconvert_exporter": "python",
   "pygments_lexer": "ipython3",
   "version": "3.10.14"
  }
 },
 "nbformat": 4,
 "nbformat_minor": 5
}
